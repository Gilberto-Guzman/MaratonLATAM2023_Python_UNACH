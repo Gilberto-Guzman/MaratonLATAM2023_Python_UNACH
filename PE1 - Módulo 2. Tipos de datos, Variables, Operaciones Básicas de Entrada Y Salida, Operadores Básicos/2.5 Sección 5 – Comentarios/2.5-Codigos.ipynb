{
 "cells": [
  {
   "attachments": {},
   "cell_type": "markdown",
   "metadata": {},
   "source": [
    "### 2.5.1 Comentarios – ¿por qué, cuándo, y dónde?\n"
   ]
  },
  {
   "cell_type": "code",
   "execution_count": 4,
   "metadata": {},
   "outputs": [
    {
     "name": "stdout",
     "output_type": "stream",
     "text": [
      "c = 5.0\n"
     ]
    }
   ],
   "source": [
    "# Este programa evalúa la hipotenusa c.\n",
    "# a y b son las longitudes de los cátetos.\n",
    "a = 3.0\n",
    "b = 4.0\n",
    "c = (a**2 + b**2) ** 0.5  # Se emplea ** en lugar de una raíz cuadrada.\n",
    "print(\"c =\", c)"
   ]
  },
  {
   "attachments": {},
   "cell_type": "markdown",
   "metadata": {},
   "source": [
    "### 2.5.2 Marcar fragmentos de código.\n"
   ]
  },
  {
   "cell_type": "code",
   "execution_count": 5,
   "metadata": {},
   "outputs": [
    {
     "name": "stdout",
     "output_type": "stream",
     "text": [
      "3\n"
     ]
    }
   ],
   "source": [
    "# Este es un programa de prueba.\n",
    "x = 1\n",
    "y = 2\n",
    "# y = y + x\n",
    "print(x + y)"
   ]
  },
  {
   "cell_type": "code",
   "execution_count": 6,
   "metadata": {},
   "outputs": [],
   "source": [
    "# uncomment_me = 1\n",
    "# uncomment_me_too = 3\n",
    "# uncomment_me_also = 5\n",
    "\n",
    "# print(uncomment_me, uncomment_me_too, uncomment_me_also, sep=\"\\n\")\n"
   ]
  },
  {
   "attachments": {},
   "cell_type": "markdown",
   "metadata": {},
   "source": [
    "### 2.5.3 LAB Comentarios.\n"
   ]
  },
  {
   "cell_type": "code",
   "execution_count": 8,
   "metadata": {},
   "outputs": [
    {
     "name": "stdout",
     "output_type": "stream",
     "text": [
      "Horas:  2\n",
      "Horas en segundos:  7200\n",
      "adios\n"
     ]
    }
   ],
   "source": [
    "# este programa calcula los segundos en cierto número de horas determinadas\n",
    "\n",
    "hours = 2  # número de horas\n",
    "seconds = 3600  # número de segundos en una hora\n",
    "\n",
    "print(\"Horas: \", hours)\n",
    "print(\"Horas en segundos: \", hours * seconds)\n",
    "\n",
    "print(\"adios\")"
   ]
  }
 ],
 "metadata": {
  "kernelspec": {
   "display_name": "Python 3",
   "language": "python",
   "name": "python3"
  },
  "language_info": {
   "codemirror_mode": {
    "name": "ipython",
    "version": 3
   },
   "file_extension": ".py",
   "mimetype": "text/x-python",
   "name": "python",
   "nbconvert_exporter": "python",
   "pygments_lexer": "ipython3",
   "version": "3.11.2"
  },
  "orig_nbformat": 4
 },
 "nbformat": 4,
 "nbformat_minor": 2
}
