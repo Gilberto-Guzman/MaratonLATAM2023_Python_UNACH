{
 "cells": [
  {
   "attachments": {},
   "cell_type": "markdown",
   "metadata": {},
   "source": [
    "### 2.6.1 La función input().\n"
   ]
  },
  {
   "cell_type": "code",
   "execution_count": 1,
   "metadata": {},
   "outputs": [
    {
     "name": "stdout",
     "output_type": "stream",
     "text": [
      "Dime lo que sea...\n",
      "Hmm... hola ... ¿en serio?\n"
     ]
    }
   ],
   "source": [
    "print(\"Dime lo que sea...\")\n",
    "anything = input()\n",
    "print(\"Hmm...\", anything, \"... ¿en serio?\")"
   ]
  },
  {
   "attachments": {},
   "cell_type": "markdown",
   "metadata": {},
   "source": [
    "### 2.6.2 La función input() con un argumento.\n"
   ]
  },
  {
   "cell_type": "code",
   "execution_count": 2,
   "metadata": {},
   "outputs": [
    {
     "name": "stdout",
     "output_type": "stream",
     "text": [
      "Hmm... hola ...¿en serio?\n"
     ]
    }
   ],
   "source": [
    "anything = input(\"Dime lo que sea...\")\n",
    "print(\"Hmm...\", anything, \"...¿en serio?\")"
   ]
  },
  {
   "attachments": {},
   "cell_type": "markdown",
   "metadata": {},
   "source": [
    "### 2.6.4 La función input() - operaciones prohibidas.\n"
   ]
  },
  {
   "cell_type": "code",
   "execution_count": 3,
   "metadata": {},
   "outputs": [
    {
     "ename": "TypeError",
     "evalue": "unsupported operand type(s) for ** or pow(): 'str' and 'float'",
     "output_type": "error",
     "traceback": [
      "\u001b[1;31m---------------------------------------------------------------------------\u001b[0m",
      "\u001b[1;31mTypeError\u001b[0m                                 Traceback (most recent call last)",
      "\u001b[1;32md:\\Respaldo_Laptop\\UNACH\\Sexto Semestre\\MaratonLATAM2023_Python_UNACH\\PE1 - Módulo 2. Tipos de datos, Variables, Operaciones Básicas de Entrada Y Salida, Operadores Básicos\\2.6 Sección 6 – Interacción con el usuario\\2.6-Codigos.ipynb Cell 6\u001b[0m in \u001b[0;36m4\n\u001b[0;32m      <a href='vscode-notebook-cell:/d%3A/Respaldo_Laptop/UNACH/Sexto%20Semestre/MaratonLATAM2023_Python_UNACH/PE1%20-%20M%C3%B3dulo%202.%20Tipos%20de%20datos%2C%20Variables%2C%20Operaciones%20B%C3%A1sicas%20de%20Entrada%20Y%20Salida%2C%20Operadores%20B%C3%A1sicos/2.6%20Secci%C3%B3n%206%20%E2%80%93%20Interacci%C3%B3n%20con%20el%20usuario/2.6-Codigos.ipynb#W6sZmlsZQ%3D%3D?line=0'>1</a>\u001b[0m \u001b[39m# Probando un mensaje de error TypeError.\u001b[39;00m\n\u001b[0;32m      <a href='vscode-notebook-cell:/d%3A/Respaldo_Laptop/UNACH/Sexto%20Semestre/MaratonLATAM2023_Python_UNACH/PE1%20-%20M%C3%B3dulo%202.%20Tipos%20de%20datos%2C%20Variables%2C%20Operaciones%20B%C3%A1sicas%20de%20Entrada%20Y%20Salida%2C%20Operadores%20B%C3%A1sicos/2.6%20Secci%C3%B3n%206%20%E2%80%93%20Interacci%C3%B3n%20con%20el%20usuario/2.6-Codigos.ipynb#W6sZmlsZQ%3D%3D?line=2'>3</a>\u001b[0m anything \u001b[39m=\u001b[39m \u001b[39minput\u001b[39m(\u001b[39m\"\u001b[39m\u001b[39mIngresa un número: \u001b[39m\u001b[39m\"\u001b[39m)\n\u001b[1;32m----> <a href='vscode-notebook-cell:/d%3A/Respaldo_Laptop/UNACH/Sexto%20Semestre/MaratonLATAM2023_Python_UNACH/PE1%20-%20M%C3%B3dulo%202.%20Tipos%20de%20datos%2C%20Variables%2C%20Operaciones%20B%C3%A1sicas%20de%20Entrada%20Y%20Salida%2C%20Operadores%20B%C3%A1sicos/2.6%20Secci%C3%B3n%206%20%E2%80%93%20Interacci%C3%B3n%20con%20el%20usuario/2.6-Codigos.ipynb#W6sZmlsZQ%3D%3D?line=3'>4</a>\u001b[0m something \u001b[39m=\u001b[39m anything \u001b[39m*\u001b[39;49m\u001b[39m*\u001b[39;49m \u001b[39m2.0\u001b[39;49m\n\u001b[0;32m      <a href='vscode-notebook-cell:/d%3A/Respaldo_Laptop/UNACH/Sexto%20Semestre/MaratonLATAM2023_Python_UNACH/PE1%20-%20M%C3%B3dulo%202.%20Tipos%20de%20datos%2C%20Variables%2C%20Operaciones%20B%C3%A1sicas%20de%20Entrada%20Y%20Salida%2C%20Operadores%20B%C3%A1sicos/2.6%20Secci%C3%B3n%206%20%E2%80%93%20Interacci%C3%B3n%20con%20el%20usuario/2.6-Codigos.ipynb#W6sZmlsZQ%3D%3D?line=4'>5</a>\u001b[0m \u001b[39mprint\u001b[39m(anything, \u001b[39m\"\u001b[39m\u001b[39mal cuadrado es\u001b[39m\u001b[39m\"\u001b[39m, something)\n",
      "\u001b[1;31mTypeError\u001b[0m: unsupported operand type(s) for ** or pow(): 'str' and 'float'"
     ]
    }
   ],
   "source": [
    "# Probando un mensaje de error TypeError.\n",
    "\n",
    "anything = input(\"Ingresa un número: \")\n",
    "something = anything**2.0\n",
    "print(anything, \"al cuadrado es\", something)"
   ]
  },
  {
   "attachments": {},
   "cell_type": "markdown",
   "metadata": {},
   "source": [
    "### 2.6.5 Conversión de tipos (conversiones de tipos).\n"
   ]
  },
  {
   "cell_type": "code",
   "execution_count": 4,
   "metadata": {},
   "outputs": [
    {
     "name": "stdout",
     "output_type": "stream",
     "text": [
      "5.0 a la potencia de 2 es 25.0\n"
     ]
    }
   ],
   "source": [
    "anything = float(input(\"Ingresa un número: \"))\n",
    "something = anything**2.0\n",
    "print(anything, \"a la potencia de 2 es\", something)"
   ]
  },
  {
   "attachments": {},
   "cell_type": "markdown",
   "metadata": {},
   "source": [
    "### 2.6.6 Más sobre input() y conversión de tipo.\n"
   ]
  },
  {
   "cell_type": "code",
   "execution_count": 6,
   "metadata": {},
   "outputs": [
    {
     "name": "stdout",
     "output_type": "stream",
     "text": [
      "La longitud de la hipotenusa es: 7.615773105863909\n"
     ]
    }
   ],
   "source": [
    "leg_a = float(input(\"Ingresa la longitud del primer cateto: \"))\n",
    "leg_b = float(input(\"Ingresa la longitud del segundo cateto: \"))\n",
    "hypo = (leg_a**2 + leg_b**2) ** 0.5\n",
    "print(\"La longitud de la hipotenusa es:\", hypo)"
   ]
  },
  {
   "cell_type": "code",
   "execution_count": 7,
   "metadata": {},
   "outputs": [
    {
     "name": "stdout",
     "output_type": "stream",
     "text": [
      "La longitud de la hipotenusa es: 7.615773105863909\n"
     ]
    }
   ],
   "source": [
    "leg_a = float(input(\"Ingresa la longitud del primer cateto: \"))\n",
    "leg_b = float(input(\"Ingresa la longitud del segundo cateto: \"))\n",
    "print(\"La longitud de la hipotenusa es:\", (leg_a**2 + leg_b**2) ** 0.5)"
   ]
  },
  {
   "attachments": {},
   "cell_type": "markdown",
   "metadata": {},
   "source": [
    "### 2.6.7 Operadores cadena.\n"
   ]
  },
  {
   "cell_type": "code",
   "execution_count": 8,
   "metadata": {},
   "outputs": [
    {
     "name": "stdout",
     "output_type": "stream",
     "text": [
      "Gracias. \n",
      "\n",
      "Tu nombre es Gilberto Guzman.\n"
     ]
    }
   ],
   "source": [
    "fnam = input(\"¿Me puedes dar tu nombre por favor? \")\n",
    "lnam = input(\"¿Me puedes dar tu apellido por favor? \")\n",
    "print(\"Gracias. \")\n",
    "print(\"\\nTu nombre es \" + fnam + \" \" + lnam + \".\")"
   ]
  },
  {
   "attachments": {},
   "cell_type": "markdown",
   "metadata": {},
   "source": [
    "### Replicación.\n"
   ]
  },
  {
   "cell_type": "code",
   "execution_count": 9,
   "metadata": {},
   "outputs": [
    {
     "name": "stdout",
     "output_type": "stream",
     "text": [
      "+----------+\n",
      "|          |\n",
      "|          |\n",
      "|          |\n",
      "|          |\n",
      "|          |\n",
      "+----------+\n"
     ]
    }
   ],
   "source": [
    "print(\"+\" + 10 * \"-\" + \"+\")\n",
    "print((\"|\" + \" \" * 10 + \"|\\n\") * 5, end=\"\")\n",
    "print(\"+\" + 10 * \"-\" + \"+\")"
   ]
  },
  {
   "attachments": {},
   "cell_type": "markdown",
   "metadata": {},
   "source": [
    "### 2.6.8 Conversiones de tipos una vez más.\n"
   ]
  },
  {
   "cell_type": "code",
   "execution_count": 10,
   "metadata": {},
   "outputs": [
    {
     "name": "stdout",
     "output_type": "stream",
     "text": [
      "La longitud de la hipotenusa es 7.615773105863909\n"
     ]
    }
   ],
   "source": [
    "leg_a = float(input(\"Ingresa la longitud del primer cateto: \"))\n",
    "leg_b = float(input(\"Ingresa la longitud del segundo cateto: \"))\n",
    "print(\"La longitud de la hipotenusa es \" + str((leg_a**2 + leg_b**2) ** 0.5))"
   ]
  },
  {
   "attachments": {},
   "cell_type": "markdown",
   "metadata": {},
   "source": [
    "### 2.6.9 LAB Entradas y salidas simples.\n"
   ]
  },
  {
   "cell_type": "code",
   "execution_count": null,
   "metadata": {},
   "outputs": [],
   "source": [
    "# ingresa un valor flotante para la variable a aquí\n",
    "# ingresa un valor flotante para la variable b aquí\n",
    "\n",
    "a = float(input(\"ingresa un valor flotante para la variable a aquí: \"))\n",
    "b = float(input(\"ingresa un valor flotante para la variable b aquí: \"))\n",
    "\n",
    "print(\"El resultado de la suma es: \" + str(a + b))\n",
    "print(\"El resultado de la resta es: \" + str(a - b))\n",
    "\n",
    "print(\"El resultado de la multiplicación es:\", a * b)\n",
    "print(\"El resultado de la división es:\", a / b)\n",
    "# mostrar el resultado de la suma aquí\n",
    "# mostrar el resultado de la resta aquí\n",
    "# mostrar el resultado de la multiplicación aquí\n",
    "# mostrar el resultado de la división aquí\n",
    "\n",
    "print(\"\\n¡Eso es todo, amigos!\")"
   ]
  },
  {
   "attachments": {},
   "cell_type": "markdown",
   "metadata": {},
   "source": [
    "### 2.6.10 LAB Operadores y expresiones.\n"
   ]
  },
  {
   "cell_type": "code",
   "execution_count": 2,
   "metadata": {},
   "outputs": [
    {
     "name": "stdout",
     "output_type": "stream",
     "text": [
      "y = 0.009999000199950014\n"
     ]
    }
   ],
   "source": [
    "x = float(input(\"Ingresa el valor para x: \"))\n",
    "y = 1.0 / (x + 1.0 / (x + 1.0 / (x + 1.0 / x)))\n",
    "print(\"y =\", y)"
   ]
  },
  {
   "attachments": {},
   "cell_type": "markdown",
   "metadata": {},
   "source": [
    "### 2.6.11 LAB Operadores y expresiones – 2.\n"
   ]
  },
  {
   "cell_type": "code",
   "execution_count": 3,
   "metadata": {},
   "outputs": [
    {
     "name": "stdout",
     "output_type": "stream",
     "text": [
      "13:16\n"
     ]
    }
   ],
   "source": [
    "# Entrada de muestra:\n",
    "\n",
    "# 12\n",
    "# 17\n",
    "# 59\n",
    "\n",
    "# Salida Esperada:\n",
    "\n",
    "# 13:16\n",
    "\n",
    "hour = int(input(\"Hora de inicio (horas): \"))\n",
    "mins = int(input(\"Minuto de inicio (minutos): \"))\n",
    "dura = int(input(\"Duración del evento (minutos): \"))\n",
    "mins = mins + dura  # encuentra el número total de minutos\n",
    "hour = (\n",
    "    hour + mins // 60\n",
    ")  # encuentra el número de horas ocultas en los minutos y actualiza las horas\n",
    "mins = mins % 60  # corrige los minutos para que estén en un rango de (0..59)\n",
    "hour = hour % 24  # corrige las horas para que estén en un rango de (0..23)\n",
    "print(hour, \":\", mins, sep=\"\")"
   ]
  }
 ],
 "metadata": {
  "kernelspec": {
   "display_name": "Python 3",
   "language": "python",
   "name": "python3"
  },
  "language_info": {
   "codemirror_mode": {
    "name": "ipython",
    "version": 3
   },
   "file_extension": ".py",
   "mimetype": "text/x-python",
   "name": "python",
   "nbconvert_exporter": "python",
   "pygments_lexer": "ipython3",
   "version": "3.11.2"
  },
  "orig_nbformat": 4
 },
 "nbformat": 4,
 "nbformat_minor": 2
}
