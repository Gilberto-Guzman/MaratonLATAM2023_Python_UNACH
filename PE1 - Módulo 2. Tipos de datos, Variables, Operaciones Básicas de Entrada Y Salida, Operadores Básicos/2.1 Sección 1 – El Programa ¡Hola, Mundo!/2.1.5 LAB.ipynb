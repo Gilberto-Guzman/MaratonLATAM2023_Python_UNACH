{
 "cells": [
  {
   "attachments": {},
   "cell_type": "markdown",
   "metadata": {},
   "source": [
    "# 2.1.5 LAB Trabajando con la función print()\n",
    "\n",
    "## Escenario\n",
    "\n",
    "El comando print(), el cual es una de las directivas más sencillas de Python, simplemente imprime una línea de texto en la pantalla.\n",
    "\n",
    "En tu primer laboratorio:\n",
    "\n",
    "- Utiliza la función print() para imprimir la linea ¡Hola, Mundo! en la pantalla. Usa comillas dobles alrededor de la cadena.\n",
    "\n",
    "- Habiendo hecho eso, usa la función print() nuevamente, pero esta vez imprime tu nombre.\n",
    "\n",
    "- Elimina las comillas dobles y ejecuta tu código. Mira la reacción de Python. ¿Qué tipo de error arroja?\n",
    "\n",
    "- Luego, elimina los paréntesis, vuelve a colocar las comillas dobles y ejecuta tu código nuevamente. ¿Qué tipo de error arroja esta vez?\n",
    "\n",
    "- Experimenta todo lo que puedas. Cambia las comillas dobles a comillas simples, usa múltiples funciones print() en la misma línea, y luego en diferentes líneas. Mira qué pasa."
   ]
  },
  {
   "cell_type": "code",
   "execution_count": 1,
   "metadata": {},
   "outputs": [
    {
     "name": "stdout",
     "output_type": "stream",
     "text": [
      "¡Hola, Python!\n"
     ]
    }
   ],
   "source": [
    "print(\"¡Hola, Python!\")"
   ]
  },
  {
   "cell_type": "code",
   "execution_count": 2,
   "metadata": {},
   "outputs": [
    {
     "name": "stdout",
     "output_type": "stream",
     "text": [
      "Gilberto\n"
     ]
    }
   ],
   "source": [
    "print(\"Gilberto\")"
   ]
  },
  {
   "cell_type": "code",
   "execution_count": 3,
   "metadata": {},
   "outputs": [
    {
     "ename": "NameError",
     "evalue": "name 'Gilberto' is not defined",
     "output_type": "error",
     "traceback": [
      "\u001b[1;31m---------------------------------------------------------------------------\u001b[0m",
      "\u001b[1;31mNameError\u001b[0m                                 Traceback (most recent call last)",
      "\u001b[1;32md:\\UNACH\\Sexto Semestre\\MaratonLATAM2023_Python_UNACH\\PE1 - Módulo 2. Tipos de datos, Variables, Operaciones Básicas de Entrada Y Salida, Operadores Básicos\\2.1 Sección 1 – El Programa ¡Hola, Mundo!\\hola.ipynb Cell 4\u001b[0m in \u001b[0;36m1\n\u001b[1;32m----> <a href='vscode-notebook-cell:/d%3A/UNACH/Sexto%20Semestre/MaratonLATAM2023_Python_UNACH/PE1%20-%20M%C3%B3dulo%202.%20Tipos%20de%20datos%2C%20Variables%2C%20Operaciones%20B%C3%A1sicas%20de%20Entrada%20Y%20Salida%2C%20Operadores%20B%C3%A1sicos/2.1%20Secci%C3%B3n%201%20%E2%80%93%20El%20Programa%20%C2%A1Hola%2C%20Mundo%21/hola.ipynb#W2sZmlsZQ%3D%3D?line=0'>1</a>\u001b[0m \u001b[39mprint\u001b[39m(Gilberto)\n",
      "\u001b[1;31mNameError\u001b[0m: name 'Gilberto' is not defined"
     ]
    }
   ],
   "source": [
    "print(Gilberto)"
   ]
  },
  {
   "cell_type": "code",
   "execution_count": null,
   "metadata": {},
   "outputs": [],
   "source": [
    "print\"Greg\""
   ]
  },
  {
   "cell_type": "code",
   "execution_count": null,
   "metadata": {},
   "outputs": [],
   "source": [
    "print('Greg')"
   ]
  },
  {
   "cell_type": "code",
   "execution_count": null,
   "metadata": {},
   "outputs": [],
   "source": [
    "print(\"Greg\") print(\"Python\")"
   ]
  }
 ],
 "metadata": {
  "kernelspec": {
   "display_name": "Python 3",
   "language": "python",
   "name": "python3"
  },
  "language_info": {
   "codemirror_mode": {
    "name": "ipython",
    "version": 3
   },
   "file_extension": ".py",
   "mimetype": "text/x-python",
   "name": "python",
   "nbconvert_exporter": "python",
   "pygments_lexer": "ipython3",
   "version": "3.11.2"
  },
  "orig_nbformat": 4
 },
 "nbformat": 4,
 "nbformat_minor": 2
}
