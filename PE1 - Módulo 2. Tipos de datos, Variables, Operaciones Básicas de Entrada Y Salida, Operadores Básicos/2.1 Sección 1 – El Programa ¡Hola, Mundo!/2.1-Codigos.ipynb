{
 "cells": [
  {
   "attachments": {},
   "cell_type": "markdown",
   "metadata": {},
   "source": [
    "### 2.1.1 Tu primer programa\n"
   ]
  },
  {
   "cell_type": "code",
   "execution_count": 2,
   "metadata": {},
   "outputs": [
    {
     "name": "stdout",
     "output_type": "stream",
     "text": [
      "¡Hola, Mundo!\n"
     ]
    }
   ],
   "source": [
    "print(\"¡Hola, Mundo!\")"
   ]
  },
  {
   "attachments": {},
   "cell_type": "markdown",
   "metadata": {},
   "source": [
    "### 2.1.5 LAB Trabajando con la función print()\n"
   ]
  },
  {
   "cell_type": "code",
   "execution_count": 3,
   "metadata": {},
   "outputs": [
    {
     "name": "stdout",
     "output_type": "stream",
     "text": [
      "¡Hola, Python!\n"
     ]
    }
   ],
   "source": [
    "# Solución Muestra\n",
    "\n",
    "print(\"¡Hola, Python!\")\n",
    "# print(\"Greg\")\n",
    "# print(Greg)\n",
    "# print\"Greg\"\n",
    "# print('Greg')\n",
    "# print(\"Greg\") print(\"Python\")\n",
    "# ...</sampleSolution>"
   ]
  },
  {
   "attachments": {},
   "cell_type": "markdown",
   "metadata": {},
   "source": [
    "### 2.1.7 Instrucciones\n"
   ]
  },
  {
   "cell_type": "code",
   "execution_count": 4,
   "metadata": {},
   "outputs": [
    {
     "name": "stdout",
     "output_type": "stream",
     "text": [
      "La Witsi Witsi Araña subió a su telaraña.\n",
      "Vino la lluvia y se la llevó.\n"
     ]
    }
   ],
   "source": [
    "print(\"La Witsi Witsi Araña subió a su telaraña.\")\n",
    "print(\"Vino la lluvia y se la llevó.\")"
   ]
  },
  {
   "cell_type": "code",
   "execution_count": 5,
   "metadata": {},
   "outputs": [
    {
     "name": "stdout",
     "output_type": "stream",
     "text": [
      "La Witsi Witsi Araña subió a su telaraña.\n",
      "\n",
      "Vino la lluvia y se la llevó.\n"
     ]
    }
   ],
   "source": [
    "print(\"La Witsi Witsi Araña subió a su telaraña.\")\n",
    "print()\n",
    "print(\"Vino la lluvia y se la llevó.\")"
   ]
  },
  {
   "attachments": {},
   "cell_type": "markdown",
   "metadata": {},
   "source": [
    "### 2.1.8 Caracteres de escape y nueva línea en Python\n"
   ]
  },
  {
   "cell_type": "code",
   "execution_count": 6,
   "metadata": {},
   "outputs": [
    {
     "name": "stdout",
     "output_type": "stream",
     "text": [
      "La Witsi Witsi Araña\n",
      "subió a su telaraña.\n",
      "\n",
      "Vino la lluvia\n",
      "y se la llevó.\n"
     ]
    }
   ],
   "source": [
    "print(\"La Witsi Witsi Araña\\nsubió a su telaraña.\")\n",
    "print()\n",
    "print(\"Vino la lluvia\\ny se la llevó.\")"
   ]
  },
  {
   "cell_type": "code",
   "execution_count": 7,
   "metadata": {},
   "outputs": [
    {
     "name": "stdout",
     "output_type": "stream",
     "text": [
      "La Witsi Witsi Araña\n",
      "subió a su telaraña.\n",
      "\n",
      "Vino la lluvia\n",
      "ay se la llevó.\n"
     ]
    }
   ],
   "source": [
    "print(\"La Witsi Witsi Araña\\nsubió a su telaraña.\")\n",
    "print()\n",
    "print(\"Vino la lluvia\\nay se la llevó.\")"
   ]
  },
  {
   "attachments": {},
   "cell_type": "markdown",
   "metadata": {},
   "source": [
    "### 2.1.9 Usando múltiples argumentos\n"
   ]
  },
  {
   "cell_type": "code",
   "execution_count": 8,
   "metadata": {},
   "outputs": [
    {
     "name": "stdout",
     "output_type": "stream",
     "text": [
      "La Witsi Witsi Araña subió a su telaraña.\n"
     ]
    }
   ],
   "source": [
    "print(\"La Witsi Witsi Araña\", \"subió\", \"a su telaraña.\")"
   ]
  },
  {
   "attachments": {},
   "cell_type": "markdown",
   "metadata": {},
   "source": [
    "### 2.1.10 Argumentos posicionales\n"
   ]
  },
  {
   "cell_type": "code",
   "execution_count": 9,
   "metadata": {},
   "outputs": [
    {
     "name": "stdout",
     "output_type": "stream",
     "text": [
      "Mi nombre es Python.\n",
      "Monty Python.\n"
     ]
    }
   ],
   "source": [
    "print(\"Mi nombre es\", \"Python.\")\n",
    "print(\"Monty Python.\")"
   ]
  },
  {
   "attachments": {},
   "cell_type": "markdown",
   "metadata": {},
   "source": [
    "### 2.1.11 Argumentos de palabra clave\n"
   ]
  },
  {
   "cell_type": "code",
   "execution_count": 10,
   "metadata": {},
   "outputs": [
    {
     "name": "stdout",
     "output_type": "stream",
     "text": [
      "Mi nombre es Python. Monty Python.\n"
     ]
    }
   ],
   "source": [
    "print(\"Mi nombre es\", \"Python.\", end=\" \")\n",
    "print(\"Monty Python.\")"
   ]
  },
  {
   "cell_type": "code",
   "execution_count": 11,
   "metadata": {},
   "outputs": [
    {
     "name": "stdout",
     "output_type": "stream",
     "text": [
      "Mi nombre es Monty Python.\n"
     ]
    }
   ],
   "source": [
    "print(\"Mi nombre es \", end=\"\")\n",
    "print(\"Monty Python.\")"
   ]
  },
  {
   "cell_type": "code",
   "execution_count": 12,
   "metadata": {},
   "outputs": [
    {
     "name": "stdout",
     "output_type": "stream",
     "text": [
      "Mi-nombre-es-Monty-Python.\n"
     ]
    }
   ],
   "source": [
    "print(\"Mi\", \"nombre\", \"es\", \"Monty\", \"Python.\", sep=\"-\")"
   ]
  },
  {
   "cell_type": "code",
   "execution_count": 13,
   "metadata": {},
   "outputs": [
    {
     "name": "stdout",
     "output_type": "stream",
     "text": [
      "Mi_nombre_es*Monty*Python.*\n"
     ]
    }
   ],
   "source": [
    "print(\"Mi\", \"nombre\", \"es\", sep=\"_\", end=\"*\")\n",
    "print(\"Monty\", \"Python.\", sep=\"*\", end=\"*\\n\")"
   ]
  },
  {
   "attachments": {},
   "cell_type": "markdown",
   "metadata": {},
   "source": [
    "### 2.1.12 LAB La función print() y sus argumentos\n"
   ]
  },
  {
   "cell_type": "code",
   "execution_count": 24,
   "metadata": {},
   "outputs": [
    {
     "name": "stdout",
     "output_type": "stream",
     "text": [
      "Programming***Essentials***in...Python\n"
     ]
    }
   ],
   "source": [
    "print(\"Programming\", \"Essentials\", \"in\", sep=\"***\", end=\"...\")\n",
    "print(\"Python\")"
   ]
  },
  {
   "attachments": {},
   "cell_type": "markdown",
   "metadata": {},
   "source": [
    "### 2.1.13 LAB Dando formato a la salida\n"
   ]
  },
  {
   "cell_type": "code",
   "execution_count": 14,
   "metadata": {},
   "outputs": [
    {
     "name": "stdout",
     "output_type": "stream",
     "text": [
      "    *\n",
      "   * *\n",
      "  *   *\n",
      " *     *\n",
      "***   ***\n",
      "  *   *\n",
      "  *   *\n",
      "  *****\n"
     ]
    }
   ],
   "source": [
    "print(\"    *\")\n",
    "print(\"   * *\")\n",
    "print(\"  *   *\")\n",
    "print(\" *     *\")\n",
    "print(\"***   ***\")\n",
    "print(\"  *   *\")\n",
    "print(\"  *   *\")\n",
    "print(\"  *****\")\n"
   ]
  },
  {
   "cell_type": "code",
   "execution_count": 15,
   "metadata": {},
   "outputs": [
    {
     "name": "stdout",
     "output_type": "stream",
     "text": [
      "    *\n",
      "   * *\n",
      "  *   *\n",
      " *     *\n",
      "***   ***\n",
      "  *   *\n",
      "  *   *\n",
      "  *****\n"
     ]
    }
   ],
   "source": [
    "print(\"    *\\n   * *\\n  *   *\\n *     *\\n***   ***\\n  *   *\\n  *   *\\n  *****\")\n"
   ]
  },
  {
   "cell_type": "code",
   "execution_count": 22,
   "metadata": {},
   "outputs": [
    {
     "name": "stdout",
     "output_type": "stream",
     "text": [
      "         **\n",
      "        *  *\n",
      "       *    *\n",
      "      *      *\n",
      "     *        *\n",
      "    *          *\n",
      "   *            *\n",
      "  *              *\n",
      " *                *\n",
      "******        ******\n",
      "     *        *    \n",
      "     *        *    \n",
      "     *        *    \n",
      "     *        *    \n",
      "     **********    \n"
     ]
    }
   ],
   "source": [
    "print(\"         **\")\n",
    "print(\"        *  *\")\n",
    "print(\"       *    *\")\n",
    "print(\"      *      *\")\n",
    "print(\"     *        *\")\n",
    "print(\"    *          *\")\n",
    "print(\"   *            *\")\n",
    "print(\"  *              *\")\n",
    "print(\" *                *\")\n",
    "print(\"******        ******\")\n",
    "print(\"     *        *    \")\n",
    "print(\"     *        *    \")\n",
    "print(\"     *        *    \")\n",
    "print(\"     *        *    \")\n",
    "print(\"     **********    \")\n"
   ]
  },
  {
   "cell_type": "code",
   "execution_count": 29,
   "metadata": {},
   "outputs": [
    {
     "name": "stdout",
     "output_type": "stream",
     "text": [
      "          **                   **         \n",
      "         *  *                 *  *        \n",
      "        *    *               *    *       \n",
      "       *      *             *      *      \n",
      "      *        *           *        *     \n",
      "     *          *         *          *    \n",
      "    *            *       *            *   \n",
      "   *              *     *              *  \n",
      "  *                *   *                * \n",
      " ******        ****** ******        ******\n",
      "      *        *           *        *     \n",
      "      *        *           *        *     \n",
      "      *        *           *        *     \n",
      "      *        *           *        *     \n",
      "      **********           **********     \n"
     ]
    }
   ],
   "source": [
    "print(\"          **         \" * 2)\n",
    "print(\"         *  *        \" * 2)\n",
    "print(\"        *    *       \" * 2)\n",
    "print(\"       *      *      \" * 2)\n",
    "print(\"      *        *     \" * 2)\n",
    "print(\"     *          *    \" * 2)\n",
    "print(\"    *            *   \" * 2)\n",
    "print(\"   *              *  \" * 2)\n",
    "print(\"  *                * \" * 2)\n",
    "print(\" ******        ******\" * 2)\n",
    "print(\"      *        *     \" * 2)\n",
    "print(\"      *        *     \" * 2)\n",
    "print(\"      *        *     \" * 2)\n",
    "print(\"      *        *     \" * 2)\n",
    "print(\"      **********     \" * 2)"
   ]
  },
  {
   "cell_type": "code",
   "execution_count": 31,
   "metadata": {},
   "outputs": [
    {
     "name": "stdout",
     "output_type": "stream",
     "text": [
      "Greg's book.\n",
      "'Greg's book.'\n",
      "\"Greg's book.\"\n",
      "Greg's book.\n"
     ]
    }
   ],
   "source": [
    "print(\"Greg's book.\")\n",
    "print(\"'Greg's book.'\")\n",
    "print('\"Greg\\'s book.\"')\n",
    "print(\"Greg's book.\")\n",
    "# print('\"Greg's book.\"')"
   ]
  },
  {
   "attachments": {},
   "cell_type": "markdown",
   "metadata": {},
   "source": [
    "La línea 5 generará un SyntaxError, porque el símbolo ' en la cadena Greg's book. requiere un carácter de escape.\n"
   ]
  }
 ],
 "metadata": {
  "kernelspec": {
   "display_name": "Python 3",
   "language": "python",
   "name": "python3"
  },
  "language_info": {
   "codemirror_mode": {
    "name": "ipython",
    "version": 3
   },
   "file_extension": ".py",
   "mimetype": "text/x-python",
   "name": "python",
   "nbconvert_exporter": "python",
   "pygments_lexer": "ipython3",
   "version": "3.11.2"
  },
  "orig_nbformat": 4
 },
 "nbformat": 4,
 "nbformat_minor": 2
}
