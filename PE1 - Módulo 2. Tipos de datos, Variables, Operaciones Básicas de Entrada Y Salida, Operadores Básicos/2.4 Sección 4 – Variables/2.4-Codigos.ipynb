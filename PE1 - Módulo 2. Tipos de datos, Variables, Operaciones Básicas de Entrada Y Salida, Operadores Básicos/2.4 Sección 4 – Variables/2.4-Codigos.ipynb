{
 "cells": [
  {
   "attachments": {},
   "cell_type": "markdown",
   "metadata": {},
   "source": [
    "### 2.4.3 Cómo crear una variable.\n"
   ]
  },
  {
   "cell_type": "code",
   "execution_count": 31,
   "metadata": {},
   "outputs": [
    {
     "name": "stdout",
     "output_type": "stream",
     "text": [
      "1\n"
     ]
    }
   ],
   "source": [
    "var = 1\n",
    "print(var)"
   ]
  },
  {
   "attachments": {},
   "cell_type": "markdown",
   "metadata": {},
   "source": [
    "### 2.4.4 Cómo emplear una variable.\n"
   ]
  },
  {
   "cell_type": "code",
   "execution_count": 32,
   "metadata": {},
   "outputs": [
    {
     "name": "stdout",
     "output_type": "stream",
     "text": [
      "1 1000.0 John Doe\n",
      "1\n"
     ]
    }
   ],
   "source": [
    "var = 1\n",
    "account_balance = 1000.0\n",
    "client_name = \"John Doe\"\n",
    "print(var, account_balance, client_name)\n",
    "print(var)"
   ]
  },
  {
   "cell_type": "code",
   "execution_count": 33,
   "metadata": {},
   "outputs": [],
   "source": [
    "# var = 1\n",
    "# print(Var)"
   ]
  },
  {
   "cell_type": "code",
   "execution_count": 34,
   "metadata": {},
   "outputs": [
    {
     "name": "stdout",
     "output_type": "stream",
     "text": [
      "Python version: 3.8.5\n"
     ]
    }
   ],
   "source": [
    "var = \"3.8.5\"\n",
    "print(\"Python version: \" + var)"
   ]
  },
  {
   "attachments": {},
   "cell_type": "markdown",
   "metadata": {},
   "source": [
    "### 2.4.5 Cómo asignar un nuevo valor a una variable ya existente\n"
   ]
  },
  {
   "cell_type": "code",
   "execution_count": 35,
   "metadata": {},
   "outputs": [
    {
     "name": "stdout",
     "output_type": "stream",
     "text": [
      "1\n",
      "2\n"
     ]
    }
   ],
   "source": [
    "var = 1\n",
    "print(var)\n",
    "var = var + 1\n",
    "print(var)\n"
   ]
  },
  {
   "cell_type": "code",
   "execution_count": 36,
   "metadata": {},
   "outputs": [
    {
     "name": "stdout",
     "output_type": "stream",
     "text": [
      "500\n"
     ]
    }
   ],
   "source": [
    "var = 100\n",
    "var = 200 + 300\n",
    "print(var)\n"
   ]
  },
  {
   "attachments": {},
   "cell_type": "markdown",
   "metadata": {},
   "source": [
    "### 2.4.6 Resolviendo problemas matemáticos simples.\n"
   ]
  },
  {
   "cell_type": "code",
   "execution_count": 37,
   "metadata": {},
   "outputs": [
    {
     "name": "stdout",
     "output_type": "stream",
     "text": [
      "c = 5.0\n"
     ]
    }
   ],
   "source": [
    "a = 3.0\n",
    "b = 4.0\n",
    "c = (a**2 + b**2) ** 0.5\n",
    "print(\"c =\", c)"
   ]
  },
  {
   "attachments": {},
   "cell_type": "markdown",
   "metadata": {},
   "source": [
    "### 2.4.7 LAB Variables.\n"
   ]
  },
  {
   "attachments": {},
   "cell_type": "markdown",
   "metadata": {},
   "source": [
    "### Escenario\n",
    "\n",
    "A continuación una historia:\n",
    "\n",
    "Érase una vez en la Tierra de las Manzanas, Juan tenía tres manzanas, María tenía cinco manzanas, y Adán tenía seis manzanas. Todos eran muy felices y vivieron por muchísimo tiempo. Fin de la Historia.\n",
    "\n",
    "Tu tarea es:\n",
    "\n",
    "Crear las variables: john, mary, y adam;\n",
    "Asignar valores a las variables. El valor debe de ser igual al número de manzanas que cada quien tenía;\n",
    "Una vez almacenados los números en las variables, imprimir las variables en una línea, y separar cada una de ellas con una coma;\n",
    "Después se debe crear una nueva variable llamada total_apples y se debe igualar a la suma de las tres variables anteriores;\n",
    "Imprime el valor almacenado en total_apples en la consola;\n",
    "Experimenta con tu código: crea nuevas variables, asigna diferentes valores a ellas, y realiza varias operaciones aritméticas con ellas (por ejemplo, +, -, \\*, /, //, etc.). Intenta poner una cadena con un entero juntos en la misma línea, por ejemplo, \"Número total de manzanas:\" y total_apples.\n"
   ]
  },
  {
   "cell_type": "code",
   "execution_count": 38,
   "metadata": {},
   "outputs": [
    {
     "name": "stdout",
     "output_type": "stream",
     "text": [
      "3,5,6\n",
      "14\n"
     ]
    }
   ],
   "source": [
    "john = 3\n",
    "mary = 5\n",
    "adam = 6\n",
    "\n",
    "print(john, mary, adam, sep=\",\")\n",
    "\n",
    "total_apples = john + mary + adam\n",
    "print(total_apples)\n",
    "\n",
    "# peter = 12.5\n",
    "# suzy = 2\n",
    "# print(peter / suzy)\n",
    "# print(\"Total number of apples:\", total_apples)\n"
   ]
  },
  {
   "attachments": {},
   "cell_type": "markdown",
   "metadata": {},
   "source": [
    "### 2.4.9 LAB Variables: un convertidor simple.\n"
   ]
  },
  {
   "attachments": {},
   "cell_type": "markdown",
   "metadata": {},
   "source": [
    "### Escenario\n",
    "\n",
    "Millas y kilómetros son unidades de longitud o distancia.\n",
    "\n",
    "Teniendo en mente que 1 milla equivale aproximadamente a 1.61 kilómetros, complementa el programa en el editor para que convierta de:\n",
    "\n",
    "Millas a kilómetros;\n",
    "Kilómetros a millas.\n",
    "No se debe cambiar el código existente. Escribe tu código en los lugares indicados con ###. Prueba tu programa con los datos que han sido provistos en el código fuente.\n",
    "\n",
    "Pon mucha atención a lo que esta ocurriendo dentro de la función print(). Analiza como es que se proveen múltiples argumentos para la función, y como es que se muestra el resultado.\n",
    "\n",
    "Nota que algunos de los argumentos dentro de la función print() son cadenas (por ejemplo, \"millas son\", y otros son variables (por ejemplo, miles).\n",
    "\n",
    "Consejo  \n",
    "Hay una cosa interesante más que esta ocurriendo. ¿Puedes ver otra función dentro de la función print()? Es la función round(). Su trabajo es redondear la salida del resultado al número de decimales especificados en el paréntesis, y regresar un valor flotante (dentro de la función round() se puede encontrar el nombre de la variable, el nombre, una coma, y el número de decimales que se desean mostrar). Se hablará más de esta función muy pronto, no te preocupes si no todo queda muy claro. Solo se quiere impulsar tu curiosidad.\n",
    "\n",
    "Después de completar el laboratorio, abre Sandbox, y experimenta más. Intenta escribir diferentes convertidores, por ejemplo, un convertidor de USD a EUR, un convertidor de temperatura, etc. - ¡Deja que tu imaginación vuele! Intenta mostrar los resultados combinando cadenas y variables. Intenta utilizar y experimentar con la función round() para redondear tus resultados a uno, dos o tres decimales. Revisa que es lo que sucede si no se provee un dígito al redondear. Recuerda probar tus programas.\n",
    "\n",
    "Experimenta, saca tus propias conclusiones, y aprende. Sé curioso.\n",
    "\n",
    "Salida Esperada\n",
    "7.38 millas son 11.88 kilómetros\n",
    "12.25 kilómetros son 7.61 millas\n"
   ]
  },
  {
   "cell_type": "code",
   "execution_count": 39,
   "metadata": {},
   "outputs": [
    {
     "name": "stdout",
     "output_type": "stream",
     "text": [
      "7.38 millas son 11.88 kilómetros\n",
      "12.25 kilómetros son 7.61 millas\n"
     ]
    }
   ],
   "source": [
    "kilometers = 12.25\n",
    "miles = 7.38\n",
    "\n",
    "miles_to_kilometers = miles * 1.61\n",
    "kilometers_to_miles = kilometers / 1.61\n",
    "\n",
    "print(miles, \"millas son\", round(miles_to_kilometers, 2), \"kilómetros\")\n",
    "print(kilometers, \"kilómetros son\", round(kilometers_to_miles, 2), \"millas\")"
   ]
  },
  {
   "attachments": {},
   "cell_type": "markdown",
   "metadata": {},
   "source": [
    "### 2.4.10 LAB Operadores y expresiones.\n"
   ]
  },
  {
   "attachments": {},
   "cell_type": "markdown",
   "metadata": {},
   "source": [
    "### Escenario\n",
    "\n",
    "Observa el código en el editor: lee un valor float, lo coloca en una variable llamada x, e imprime el valor de la variable llamada y. Tu tarea es completar el código para evaluar la siguiente expresión:\n",
    "\n",
    "3x3 - 2x2 + 3x - 1\n",
    "\n",
    "El resultado debe ser asignado a y.\n",
    "\n",
    "Recuerda que la notación algebraica clásica muy seguido omite el operador de multiplicación, aquí se debe de incluir de manera explicita. Nota como se cambia el tipo de dato para asegurarnos de que x es del tipo float.\n",
    "\n",
    "Mantén tu código limpio y legible, y pruébalo utilizando los datos que han sido proporcionados. No te desanimes por no lograrlo en el primer intento. Se persistente y curioso.\n",
    "\n",
    "Salida de muestra\n",
    "x = 0\n",
    "x = 1\n",
    "x = -1\n",
    "Salida de muestra\n",
    "y = -1.0\n",
    "y = 3.0\n",
    "y = -9.0\n"
   ]
  },
  {
   "cell_type": "code",
   "execution_count": 40,
   "metadata": {},
   "outputs": [
    {
     "name": "stdout",
     "output_type": "stream",
     "text": [
      "y = -1.0\n",
      "y = 3.0\n",
      "y = -9.0\n"
     ]
    }
   ],
   "source": [
    "x = 0\n",
    "x = float(x)\n",
    "y = 3 * x**3 - 2 * x**2 + 3 * x - 1\n",
    "print(\"y =\", y)\n",
    "\n",
    "x = 1\n",
    "x = float(x)\n",
    "y = 3 * x**3 - 2 * x**2 + 3 * x - 1\n",
    "print(\"y =\", y)\n",
    "\n",
    "x = -1\n",
    "x = float(x)\n",
    "y = 3 * x**3 - 2 * x**2 + 3 * x - 1\n",
    "print(\"y =\", y)\n"
   ]
  },
  {
   "attachments": {},
   "cell_type": "markdown",
   "metadata": {},
   "source": [
    "### 2.4.11 RESUMEN DE SECCIÓN.\n"
   ]
  },
  {
   "attachments": {},
   "cell_type": "markdown",
   "metadata": {},
   "source": [
    "1. Una **variable** es una ubicación nombrada reservada para almacenar valores en la memoria. Una variable es creada o inicializada automáticamente cuando se le asigna un valor por primera vez. (2.1.4.1)\n",
    "\n",
    "2. Cada variable debe de tener un nombre único - un **identificador**. Un nombre válido debe ser aquel que no contiene espacios, debe comenzar con un guion bajo(\\_), o una letra, y no puede ser una palabra reservada de Python. El primer carácter puede estar seguido de guiones bajos, letras, y dígitos. Las variables en Python son sensibles a mayúsculas y minúsculas.\n",
    "\n",
    "3. Python es un lenguaje **de tipo dinámico**, lo que significa que no se necesita declarar variables en él. Para asignar valores a las variables, se utiliza simplemente el operador de asignación, es decir el signo de igual (=), por ejemplo, var = 1.\n",
    "\n",
    "4. También es posible utilizar **operadores de asignación compuesta** (operadores abreviados) para modificar los valores asignados a las variables, por ejemplo: var += 1, o var /= 5 \\* 2.\n",
    "\n",
    "5. Se les puede asignar valores nuevos a variables ya existentes utilizando el operador de asignación o un operador abreviado, por ejemplo:\n"
   ]
  },
  {
   "cell_type": "code",
   "execution_count": 41,
   "metadata": {},
   "outputs": [
    {
     "name": "stdout",
     "output_type": "stream",
     "text": [
      "2\n",
      "3\n",
      "4\n"
     ]
    }
   ],
   "source": [
    "var = 2\n",
    "print(var)\n",
    "\n",
    "var = 3\n",
    "print(var)\n",
    "\n",
    "var += 1  # var = var + 1\n",
    "print(var)"
   ]
  },
  {
   "attachments": {},
   "cell_type": "markdown",
   "metadata": {},
   "source": [
    "Puedes combinar texto y variables usando el operador + y emplear la función print() para generar cadenas y variables, por ejemplo:\n"
   ]
  },
  {
   "cell_type": "code",
   "execution_count": 42,
   "metadata": {},
   "outputs": [
    {
     "name": "stdout",
     "output_type": "stream",
     "text": [
      "Agent 007\n"
     ]
    }
   ],
   "source": [
    "var = \"007\"\n",
    "print(\"Agent \" + var)\n"
   ]
  }
 ],
 "metadata": {
  "kernelspec": {
   "display_name": "Python 3",
   "language": "python",
   "name": "python3"
  },
  "language_info": {
   "codemirror_mode": {
    "name": "ipython",
    "version": 3
   },
   "file_extension": ".py",
   "mimetype": "text/x-python",
   "name": "python",
   "nbconvert_exporter": "python",
   "pygments_lexer": "ipython3",
   "version": "3.11.2"
  },
  "orig_nbformat": 4
 },
 "nbformat": 4,
 "nbformat_minor": 2
}
